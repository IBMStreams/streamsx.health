{
 "cells": [
  {
   "cell_type": "markdown",
   "metadata": {},
   "source": [
    "# ROADMAP\n",
    "\n",
    "The notebooks described below compose Streams applications in a Docker image. The image includes the Python3.5, Jupyter Server (rendering this notebook) and the requisite Streams modules that : compose, build (@ a build server) and submit to your instance\n",
    "\n",
    "The distinguishing factor of the applications in these notebooks is that the code is composed locally then submitted to a build server and run on the Cloud, thier is no need to install the Streams build environment."
   ]
  },
  {
   "cell_type": "markdown",
   "metadata": {},
   "source": [
    "\n",
    "\n",
    "![DockerImage](images/dockerSQL.png)\n",
    "\n",
    "\n",
    "## HeathcareDemo : base\n",
    "Application subscribes to a data generator, processes the data and renders views of the data in a Jupter notebook. \n",
    "\n",
    "- In order run the application you'll need to create and configure a Streams service, [HealthcareSetup.ipynb](HealthcareSetup.ipynb) walks through configuration the steps.\n",
    "- The [HealthcareDemo.ipynb](HealthcareDemo.ipynb) notebook  builds, submits a Streams application to the Streams service that consumes and displays vitals (heart, respiration...) data. \n",
    "\n",
    "\n",
    "![File Sharing](images/architecture.jpg)\n",
    "\n",
    "\n",
    "## HealthCareCOS : \n",
    "Same application as above with the addition of writing the data received to \n",
    "Cloud Object Store (COS). Data that is written to COS can be retrieved using \n",
    "SQL Query Service.\n",
    "\n",
    "- If you have not setup your Streams service, go through the process described in \n",
    "[HealthcareSetup.ipynb](HealthcareSetup.ipynb)\n",
    "- [HealthcareCOSSetup.ipynb](HealthcareCOSSetup.ipynb) walks through the allocation and\n",
    "configuration of COS service.\n",
    "- The [HealthcareCOS.ipynb](HealthcareCOS.ipynb) extends the HeathcareDemo.ipynb by storing \n",
    "the raw vitals to COS.\n",
    "- The [SQLCOS.ipynb] access the data stored by the previous notebook. \n",
    "\n",
    " \n",
    "![WithCOS](images/architectureCOS.jpg)\n",
    "\n",
    "\n",
    "\n",
    "- The [SQLCOS.ipynb](SQLCOS.ipynb) access the data stored by HealthCareCOS notebook. \n"
   ]
  },
  {
   "cell_type": "code",
   "execution_count": null,
   "metadata": {
    "collapsed": true
   },
   "outputs": [],
   "source": []
  }
 ],
 "metadata": {
  "anaconda-cloud": {},
  "kernelspec": {
   "display_name": "Python [conda root]",
   "language": "python",
   "name": "conda-root-py"
  },
  "language_info": {
   "codemirror_mode": {
    "name": "ipython",
    "version": 3
   },
   "file_extension": ".py",
   "mimetype": "text/x-python",
   "name": "python",
   "nbconvert_exporter": "python",
   "pygments_lexer": "ipython3",
   "version": "3.5.2"
  }
 },
 "nbformat": 4,
 "nbformat_minor": 1
}
