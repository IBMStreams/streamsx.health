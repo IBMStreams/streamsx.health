{
 "cells": [
  {
   "cell_type": "markdown",
   "metadata": {},
   "source": [
    "###  <font color=lightgreen>SHIFT-ENTER</font> in the following cell to prompt\n",
    "\n",
    "This checks the current environment used to submit Streams applications to the cloud..."
   ]
  },
  {
   "cell_type": "code",
   "execution_count": null,
   "metadata": {
    "collapsed": false
   },
   "outputs": [],
   "source": [
    "from IPython.display import display\n",
    "from ipywidgets import widgets\n",
    "from IPython.display import display\n",
    "import configcloud.streamscred as srvc\n",
    "import configcloud.config as config\n",
    "if srvc.validateVCAP():\n",
    "    print(\"\\n\\nNo need to procede - EXIT this page\")\n",
    "else:\n",
    "    print(\"\\n\\nProcede to the next cells to configure environment ....\")"
   ]
  },
  {
   "cell_type": "markdown",
   "metadata": {},
   "source": [
    "---"
   ]
  },
  {
   "cell_type": "markdown",
   "metadata": {},
   "source": [
    "## Walk through\n",
    "\n",
    "In the case that your enironment is not setup, this will walk you through creating a Streams Instance on Bluemix, generating and capturing credentional in order that you can submit and view data of a Streams application running on the cloud.\n",
    "\n",
    "This will walk you through..\n",
    "- create and Streams instance on Bluemix\n",
    "- capture the name \n",
    "- generate credentials\n",
    "- capture the credentials\n",
    "\n",
    "### Create Instance : \n",
    "\n",
    "Use the following link to Create 'Streaming Analytics' service : (https://console.bluemix.net/catalog/services/streaming-analytics). \n",
    "\n",
    "Before selecting the 'Create', capture the name of the 'Service name', in the example below it's 'Streaming Analytics-2q'. \n",
    "\n",
    "![title](images/cred01.png)"
   ]
  },
  {
   "cell_type": "markdown",
   "metadata": {},
   "source": [
    "\n",
    "###  <font color=lightgreen>SHIFT-ENTER</font> in the following cell to prompt\n",
    "\n",
    "This will prompt for the 'Service Name' captured above, upon entry the 'Service Name' will be echoed."
   ]
  },
  {
   "cell_type": "code",
   "execution_count": null,
   "metadata": {
    "collapsed": false
   },
   "outputs": [],
   "source": [
    "config.uiText = widgets.Text()\n",
    "config.uiText.value =\"Service Name\"\n",
    "display(config.uiText)\n",
    "config.uiText.on_submit(srvc.service_submit)"
   ]
  },
  {
   "cell_type": "markdown",
   "metadata": {},
   "source": [
    "### Create Credentials"
   ]
  },
  {
   "cell_type": "markdown",
   "metadata": {},
   "source": [
    "You'll be brought back to the 'Dashboard' in the 'Services' section you'll find the newly created 'Streaming Analytics', in our sample it's 'Streaming 'Analytics-2q' - select it. \n",
    "\n",
    "![title](images/cred02.png)\n",
    "\n",
    "\n",
    "You'll then be presented with the newly created Streams instance management dashboard. Select the, 'Service Credentials' tab...\n",
    "\n",
    "\n",
    "![title](images/cred03.png)\n",
    "\n",
    "\n",
    "On the 'Service credentials' page, select 'New credential'...\n",
    "\n",
    "![title](images/cred04.png)\n",
    "\n",
    "\n",
    "On the 'Add new credential' page select 'Add'\n",
    "\n",
    "![title](images/cred05.png)\n",
    "\n",
    "On completion of the 'Add' you'll be brought back to the 'Service credentials' page with newly added Service credential, select 'View credentials'.\n",
    "\n",
    "![title](images/cred06.png)\n",
    "\n",
    "The page will expand to show the credential, use the copy icon to copy the credential into your paste buffer. \n",
    "\n",
    "![title](images/cred07.jpg)\n",
    "\n",
    "\n",
    "\n"
   ]
  },
  {
   "cell_type": "markdown",
   "metadata": {},
   "source": [
    "###  <font color=lightgreen>SHIFT-ENTER</font> in the following cell to prompt\n",
    "\n",
    "This will prompt for the 'Service credential' captured above, paste the copied credenital. The credential is greater than the prompt area, this is not a problem. \n",
    "\n",
    "The credential will be validated, if no problems are found the credentials are written, 'UPDATING environment' followed by the configuration will be displayed."
   ]
  },
  {
   "cell_type": "code",
   "execution_count": null,
   "metadata": {
    "collapsed": false
   },
   "outputs": [],
   "source": [
    "config.uiText = widgets.Text()\n",
    "#text.value = \"json formatted credential\"\n",
    "display(config.uiText)\n",
    "config.uiText.on_submit(srvc.vcap_submit)"
   ]
  },
  {
   "cell_type": "markdown",
   "metadata": {},
   "source": [
    "###  <font color=lightgreen>RESTART Juypter Server</font> \n",
    "\n",
    "At this point the configration is written to file that is read at Juypter Server startup. In the window that\n",
    "the server has been running in...\n",
    "```\n",
    "^C^C\n",
    "./jupyterStart.sh\n",
    "```\n",
    "\n",
    "###  <font color=lightgreen>Submitting the Streams application</font> \n",
    "\n",
    "After restarting Juypter run the 'HealthcareDemo-Docker.ipnb' notebook. "
   ]
  },
  {
   "cell_type": "markdown",
   "metadata": {},
   "source": [
    "---"
   ]
  },
  {
   "cell_type": "markdown",
   "metadata": {
    "collapsed": true
   },
   "source": [
    "## <font color=lightblue>Optional</font> : Launch Console.\n",
    "\n",
    "You may want to launch the Streams console in order to monitor the Streams application when it runs. \n",
    "\n",
    "On the Streams Dashboard, select 'Manage' tab. \n",
    "\n",
    "![title](images/cred08.png)\n",
    "\n",
    "From the 'Manage' page select \"LAUNCH\" to bring up the console. \n",
    "\n",
    "![title](images/cred09.png)\n",
    "\n",
    "The console will look like this, with no applications running.\n",
    "\n",
    "![title](images/nothingRunning.jpg)\n",
    "\n",
    "You may want to leave up this page in order to monitor applications as they are submitted.\n"
   ]
  },
  {
   "cell_type": "markdown",
   "metadata": {},
   "source": [
    "### Streams Console. \n",
    "\n",
    "At this point \n",
    "* Streams instance is running\n",
    "* You have configured your environment to define and submit the appliation from Juypter running in Docker. \n",
    "* It is not necessry to run this Notebook again, since the credentials have been written to a file. \n",
    "\n",
    "\n"
   ]
  },
  {
   "cell_type": "code",
   "execution_count": null,
   "metadata": {
    "collapsed": true
   },
   "outputs": [],
   "source": []
  }
 ],
 "metadata": {
  "anaconda-cloud": {},
  "kernelspec": {
   "display_name": "Python [default]",
   "language": "python",
   "name": "python3"
  },
  "language_info": {
   "codemirror_mode": {
    "name": "ipython",
    "version": 3
   },
   "file_extension": ".py",
   "mimetype": "text/x-python",
   "name": "python",
   "nbconvert_exporter": "python",
   "pygments_lexer": "ipython3",
   "version": "3.5.2"
  }
 },
 "nbformat": 4,
 "nbformat_minor": 1
}
