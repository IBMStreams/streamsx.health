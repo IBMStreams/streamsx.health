{
 "cells": [
  {
   "cell_type": "markdown",
   "metadata": {},
   "source": [
    "## Execute the following cell. \n",
    "This will not be necessary after this page firms up. "
   ]
  },
  {
   "cell_type": "code",
   "execution_count": 10,
   "metadata": {
    "collapsed": false
   },
   "outputs": [],
   "source": [
    "import json\n",
    "import os\n",
    "from IPython.display import display\n",
    "from ipywidgets import widgets\n",
    "from IPython.display import display\n",
    "\n",
    "def update_env(serviceName, credentialDict ):\n",
    "    \"\"\"\n",
    "    Update the environment variables and docker environment \n",
    "    variables file (env_file).\n",
    "    \"\"\"\n",
    "    vs = {\n",
    "        'streaming-analytics': [\n",
    "            {\n",
    "                'name': serviceName,\n",
    "                'credentials': credentialDict\n",
    "            }\n",
    "        ]\n",
    "    }\n",
    "    with open ('env_file', 'w') as outfile:\n",
    "        outfile.write(\"VCAP_SERVICES=\")\n",
    "        vsJsonStr = json.dumps(vs)\n",
    "        outfile.write(vsJsonStr)\n",
    "        outfile.write(\"\\n\")\n",
    "        os.environ[\"VCAP_SERVICES\"] = vsJsonStr\n",
    "\n",
    "        outfile.write(\"STREAMING_ANALYTICS_SERVICE_NAME=\")\n",
    "        outfile.write(serviceName)\n",
    "        outfile.write(\"\\n\")\n",
    "        os.environ[\"STREAMING_ANALYTICS_SERVICE_NAME\"] = serviceName\n",
    "    print(\"UPDATING environment : \")\n",
    "    print(\" -- STREAMING_ANALYTICS_SERVICE_NAME : %s\" % serviceName)\n",
    "    print(\" -- VCAP_SERVICES : json to follow\")    \n",
    "    print(json.dumps(vs,indent=2))\n",
    "    print(\"\\n\\n Environment Configured \")\n",
    "    return vs\n",
    "\n",
    "# Check to see if it's necessary todo the processing of this file.\n",
    "#  Are the VCAP_SERVICES and STREAMING_ANALYTICS_SERVICE_NAME set\n",
    "def validateVCAP():\n",
    "    svcs = os.getenv('VCAP_SERVICES', False)\n",
    "    anaSvc = os.getenv('STREAMING_ANALYTICS_SERVICE_NAME', False)\n",
    "    if not svcs:\n",
    "        print(\"Failed to find VCAP_SERVICES\")\n",
    "        return False\n",
    "    else:\n",
    "        vcap = json.loads(svcs)\n",
    "    if not anaSvc:\n",
    "        print(\"Failed to find 'STREAMING_ANALYTICS_SERVICE_NAME'\")\n",
    "        return False\n",
    "\n",
    "    if 'streaming-analytics' not in vcap:\n",
    "        print(\"Failed to find 'streaming-analytics' in VCAP\")\n",
    "        return False\n",
    "\n",
    "    found = False\n",
    "    creds = vcap['streaming-analytics']\n",
    "    for cred in creds:\n",
    "        if ( anaSvc == cred['name']):\n",
    "            print(\" STREAMING_ANALYTICS_SERVICE_NAME & VCAP_SERVICES found and configured\")\n",
    "            print(\" STREAMING_ANALYTICS_SERVICE_NAME : %s\" % anaSvc )\n",
    "            return True\n",
    "    print(\"Failed to locate STREAMING_ANALYTICS_SERVICE_NAME '\",anaSvc,\"'in VCAP_SERVICES\")\n",
    "    print(json.dumps(vcap, indent=2))\n",
    "    \n",
    "ServiceName = None\n",
    "def service_submit(sender):\n",
    "    \"\"\"Get/checkk service name..\"\"\"\n",
    "    global ServiceName\n",
    "    svcName = text.value.strip()\n",
    "    if len(svcName):\n",
    "        ServiceName = svcName\n",
    "        print(\"Service Name:\", ServiceName)\n",
    "    else:\n",
    "        print(\"Invalid ServiceName : length == 0\")\n",
    "        print(\"ServiceName not defined\")\n",
    "        \n",
    "global CredentialDict\n",
    "CredentialDict = None\n",
    "\n",
    "def validate_cred(str):\n",
    "    try:\n",
    "        credDict = json.loads(str)\n",
    "    except:\n",
    "        print(\"Invalid formatted credentional - should be in a json format\")\n",
    "        return(None)\n",
    "    \n",
    "    credSet = set(list(credDict.keys()))\n",
    "    validSet = {'iam_apikey_description', 'iam_apikey_name', 'iam_role_crn', 'apikey', 'iam_serviceid_crn', 'v2_rest_url'}\n",
    "    if len(validSet.difference(credSet)) is 0:\n",
    "        return credDict\n",
    "    else:\n",
    "        print(\"Credential missing keys:\",validSet.difference(credSet))\n",
    "        return None\n",
    "        \n",
    "def vcap_submit(sender):\n",
    "    global CredentialDict\n",
    "    global ServiceName\n",
    "    str = text.value\n",
    "    CredentialDict = validate_cred(str)\n",
    "    if CredentialDict is not None:\n",
    "        if ServiceName is not None:\n",
    "            vsDict = update_env(ServiceName, CredentialDict)\n",
    "\n",
    "\n"
   ]
  },
  {
   "cell_type": "markdown",
   "metadata": {},
   "source": [
    "### Check if you need to go through this page.\n",
    "Execute the followin cell. "
   ]
  },
  {
   "cell_type": "code",
   "execution_count": 2,
   "metadata": {
    "collapsed": false
   },
   "outputs": [
    {
     "name": "stdout",
     "output_type": "stream",
     "text": [
      " STREAMING_ANALYTICS_SERVICE_NAME & VCAP_SERVICES found and configured\n",
      " STREAMING_ANALYTICS_SERVICE_NAME : streaming3Turbine\n",
      "\n",
      "\n",
      "No need to procede - EXIT this page\n"
     ]
    }
   ],
   "source": [
    "if validateVCAP():\n",
    "    print(\"\\n\\nNo need to procede - EXIT this page\")\n",
    "else:\n",
    "    print(\"\\n\\nProcede to the next cells to configure environment ....\")\n",
    "    "
   ]
  },
  {
   "cell_type": "markdown",
   "metadata": {},
   "source": [
    "---"
   ]
  },
  {
   "cell_type": "markdown",
   "metadata": {},
   "source": [
    "## Walk through...\n",
    "\n",
    "This will walk you through creating a Streams Instance on Bluemix, generating and capturing credentional in order\n",
    "that you can submit and view data of a Streams application running on the cloud.\n",
    "\n",
    "You need to create and Streams instance on Bluemix, capture it's name, generate and capture it's credentials. \n",
    "\n",
    "### Create Instance : \n",
    "\n",
    "Use the following link to Create 'Streaming Analytics' service : (https://console.bluemix.net/catalog/services/streaming-analytics). \n",
    "\n",
    "Before selecting the 'Create', capture the name of the 'Service name', in the example below it's 'Streaming Analytics-2q'. \n",
    "\n",
    "![title](images/cred01.png)\n",
    "\n",
    "\n",
    "Executing (&LT;shift&GT;&LT;return&GT;) the following cell will prompt for the 'Service Name' captured above, upon entry the 'Service Name' will be echoed.\n"
   ]
  },
  {
   "cell_type": "code",
   "execution_count": 6,
   "metadata": {
    "collapsed": false
   },
   "outputs": [
    {
     "name": "stdout",
     "output_type": "stream",
     "text": [
      "Service Name: fred\n"
     ]
    }
   ],
   "source": [
    "text = widgets.Text()\n",
    "text.value =\"Service Name\"\n",
    "display(text)\n",
    "text.on_submit(service_submit)"
   ]
  },
  {
   "cell_type": "markdown",
   "metadata": {},
   "source": [
    "### Create Credentials"
   ]
  },
  {
   "cell_type": "markdown",
   "metadata": {},
   "source": [
    "You'll be brought back to the 'Dashboard' in the 'Services' section you'll find the newly created 'Streaming Analytics', in our sample it's 'Streaming 'Analytics-2q' - select it. \n",
    "\n",
    "![title](images/cred02.png)\n",
    "\n",
    "\n",
    "You'll then be presented with the newly created Streams instance management dashboard. Select the, 'Service Credentials' tab...\n",
    "\n",
    "\n",
    "![title](images/cred03.png)\n",
    "\n",
    "\n",
    "On the 'Service credentials' page, select 'New credential'...\n",
    "\n",
    "![title](images/cred04.png)\n",
    "\n",
    "\n",
    "On the 'Add new credential' page select 'Add'\n",
    "\n",
    "![title](images/cred05.png)\n",
    "\n",
    "On completion of the 'Add' you'll be brought back to the 'Service credentials' page with newly added Service credential, select 'View credentials'.\n",
    "\n",
    "![title](images/cred06.png)\n",
    "\n",
    "The page will expand to show the credential, use the copy icon to copy the credential into your paste buffer. \n",
    "\n",
    "![title](images/cred07.png)\n",
    "\n",
    "Executing the cell (&LT;shift&GT;&LT;return&GT;) will display a empty prompt, paste in the copied credential. The data being pasted, is greater than the prompt area - this is ok. \n",
    "\n",
    "\n",
    "Upon entry, the credential format will be validated, if no problems are found the credentials are written, 'UPDATING environment' followed by the configuration will be displayed.\n",
    "\n"
   ]
  },
  {
   "cell_type": "code",
   "execution_count": 8,
   "metadata": {
    "collapsed": false
   },
   "outputs": [
    {
     "name": "stdout",
     "output_type": "stream",
     "text": [
      "UPDATING environment : \n",
      " -- STREAMING_ANALYTICS_SERVICE_NAME : fred\n",
      " -- VCAP_SERVICES : json to follow\n",
      "{\n",
      "  \"streaming-analytics\": [\n",
      "    {\n",
      "      \"name\": \"fred\",\n",
      "      \"credentials\": {\n",
      "        \"iam_apikey_name\": \"auto-generated-apikey-d27124f6-c586-4269-a6d5-c8ba58ab4caa\",\n",
      "        \"v2_rest_url\": \"https://svc-cf.us-south.streaming-analytics.cloud.ibm.com/v2/streaming_analytics/ae846de1-152c-44ce-8269-bed810de5559\",\n",
      "        \"apikey\": \"pS6bDV1dorMfc--4AE20vFFhYNM0YpjCG5jpukcuoRbY\",\n",
      "        \"iam_apikey_description\": \"Auto generated apikey during resource-key operation for Instance - crn:v1:bluemix:public:streaming-analytics:us-south:a/309e3606a35c9fea12981876cd991b07:ae846de1-152c-44ce-8269-bed810de5559::\",\n",
      "        \"iam_role_crn\": \"crn:v1:bluemix:public:iam::::serviceRole:Manager\",\n",
      "        \"iam_serviceid_crn\": \"crn:v1:bluemix:public:iam-identity::a/309e3606a35c9fea12981876cd991b07::serviceid:ServiceId-e8063a1b-1406-4a63-bbbf-a66319821dfa\"\n",
      "      }\n",
      "    }\n",
      "  ]\n",
      "}\n",
      "\n",
      "\n",
      " Environment Configured * EXIT this Page\n"
     ]
    }
   ],
   "source": [
    "text = widgets.Text()\n",
    "#text.value = \"json formatted credential\"\n",
    "display(text)\n",
    "text.on_submit(vcap_submit)"
   ]
  },
  {
   "cell_type": "markdown",
   "metadata": {
    "collapsed": true
   },
   "source": [
    "### Launch Console.\n",
    "\n",
    "You will want to launch the Streams console in order to monitor the Streams application when it runs. \n",
    "\n",
    "On the Streams Dashboard, select 'Manage' tab. \n",
    "\n",
    "![title](images/cred08.png)\n",
    "\n",
    "From the 'Manage' page select \"LAUNCH\" to bring up the console. \n",
    "\n",
    "![title](images/cred09.png)\n",
    "\n",
    "The console will look like this, with no applications running.\n",
    "\n",
    "![title](images/nothingRunning.jpg)\n",
    "\n",
    "You may want to leave up this page in order to monitor applications as they are submitted.\n"
   ]
  },
  {
   "cell_type": "markdown",
   "metadata": {},
   "source": [
    "### Streams Console. \n",
    "\n",
    "At this point \n",
    "* Streams instance is running\n",
    "* You have configured your environment to define and submit the appliation from Juypter running in Docker. \n",
    "* It is not necessry to run this Notebook again, since the credentials have been written to a file. \n",
    "have conf\n",
    "\n",
    "At this point the \n",
    "At this point you should stop/start your juypter instance\n",
    "```\n",
    "^C^C\n",
    "./juypterStart.sh\n",
    "```\n",
    "\n",
    "After restarting Juypter run the 'HealthcareDemo-Docker.ipnb' notebook. "
   ]
  },
  {
   "cell_type": "code",
   "execution_count": null,
   "metadata": {
    "collapsed": true
   },
   "outputs": [],
   "source": []
  }
 ],
 "metadata": {
  "anaconda-cloud": {},
  "kernelspec": {
   "display_name": "Python [default]",
   "language": "python",
   "name": "python3"
  },
  "language_info": {
   "codemirror_mode": {
    "name": "ipython",
    "version": 3
   },
   "file_extension": ".py",
   "mimetype": "text/x-python",
   "name": "python",
   "nbconvert_exporter": "python",
   "pygments_lexer": "ipython3",
   "version": "3.5.2"
  },
  "widgets": {
   "state": {
    "0cf0ad9b9dca4058a703e5fd95d522d6": {
     "views": [
      {
       "cell_index": 4
      }
     ]
    },
    "57133e44c9714d308a7fa0a27c1a2d35": {
     "views": [
      {
       "cell_index": 7
      }
     ]
    }
   },
   "version": "1.2.0"
  }
 },
 "nbformat": 4,
 "nbformat_minor": 1
}
