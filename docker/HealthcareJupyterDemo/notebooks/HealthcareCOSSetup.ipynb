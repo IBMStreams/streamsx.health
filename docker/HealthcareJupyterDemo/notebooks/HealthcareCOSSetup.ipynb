{
 "cells": [
  {
   "cell_type": "markdown",
   "metadata": {
    "collapsed": true
   },
   "source": [
    "# Cloud Object Store Creation and Configuration. \n",
    "\n",
    "This notebook walks through how to configuration of Streams to access the Cloud Object Storage (COS). This notebook assumes that you have configured access to Streams by completing the [HealthcareSetup.ipynb](HealthcareSetup.ipynb)\n",
    "\n",
    "This walks through :\n",
    "* Creating a 'Cloud Object Store'(COS) Resource\n",
    "* Creating SQL Query service in order that you may query the data written to COS.\n",
    "* Creating a 'bucket' in COS where the data will be written.\n",
    "* Creating a COS credential\n",
    "* Setting the COS credentials in a Streams instance. "
   ]
  },
  {
   "cell_type": "markdown",
   "metadata": {},
   "source": [
    "<a id=\"setup\"></a>\n",
    "## Create a COS resource.\n",
    "\n",
    "We'll use Object Store in order to store data. Object Storage data is stored in buckets that can be accesses using a SQL interface [Object Store](https://console.bluemix.net/catalog/services/cloud-object-storage). This walk\n",
    "through will...\n",
    "\n",
    "- Create the COS resource.\n",
    "- Create bucket in the COS where data written and retrieved. \n",
    "\n",
    "### Create Cloud Object Storage\n",
    "\n",
    "[Create Object Storage](https://console.bluemix.net/catalog/services/cloud-object-storage) resource, by opening the page and selecting 'Create', make a note of the service name. "
   ]
  },
  {
   "cell_type": "markdown",
   "metadata": {},
   "source": [
    "![Create Cloud Object Storage](images/cos1.jpg)"
   ]
  },
  {
   "cell_type": "markdown",
   "metadata": {},
   "source": [
    "## Create SQL Query\n",
    "\n",
    "The SQL Query service enables SQL queries against the COS, we'll enable this sevice so that we may access the data written to COS by Streams.\n",
    "\n",
    "Select 'Create' on the [Create SQL Query](https://console.bluemix.net/catalog/services/sql-query) to enable SQL Query Service\n",
    "![Create SQL query](images/query1.jpg)"
   ]
  },
  {
   "cell_type": "markdown",
   "metadata": {},
   "source": [
    "## Configuration : Buckets and Credentials\n",
    "\n",
    "On completion of you'll be brought back the catalog, select the Cloud Object Storage just created. \n",
    "![catalog select](images/cos2.jpg)"
   ]
  },
  {
   "cell_type": "markdown",
   "metadata": {},
   "source": [
    "Data is stored in buckets on COS, to create bucket, select the 'Buckets' tab followed by the 'Create bucket' button.\n",
    "![Add select](images/cos5_1.jpg)\n",
    "\n",
    "Specify the bucket name for the demo, in this case I'm using 'vitals' followed by 'Create bucket'. \n",
    "![Add select](images/cos5_2.jpg)"
   ]
  },
  {
   "cell_type": "markdown",
   "metadata": {},
   "source": [
    "Select the 'Service credentials' tab followed by the 'New credential' button.\n",
    "![catalog select](images/cos3.jpg)\n",
    "\n",
    "Select the 'Add' button of the 'Add new credential' popup.\n",
    "![Add select](images/cos4.jpg)\n",
    "\n",
    "You'll be brought back the 'Service credentials' page the new created credential. Select the 'View credentials' to expand the credential and the 'copy' icon to copy the credentials to your paste buffer. \n",
    "![Add select](images/cos5.jpg)"
   ]
  },
  {
   "cell_type": "markdown",
   "metadata": {},
   "source": [
    "Create a [https://console.bluemix.net/catalog/services/cloud-object-storage](Cloud Object Store) resource. \n"
   ]
  },
  {
   "cell_type": "markdown",
   "metadata": {},
   "source": [
    "## Streams 'Application Configuration'\n",
    "We've create the 'Cloud Object' and the 'bucket' that application will write. The next step exposes the configuration to the the Streams application. Go to the Streams console of your Streams instance and selct the 'Application Configuration' tab on the left side of console, followed by the \"boxed\" 'Application Configuraion'\n",
    "![Application Configuration tab](images/cos6.jpg)\n",
    "\n",
    "The 'New appliction configuration...' pop up will appear, fill in the following fields.\n",
    "- Name : cos\n",
    "- Name in the properties section : cos.creds\n",
    "- Into Value,  paste the credential, in the paste buffer, copied in the previous step.  \n",
    "Configuration' tab on the left side of console, followed by the \"boxed\" 'Application Configuraion'\n",
    "![Application Configuration](images/cos7.jpg)\n",
    "\n",
    "The 'cos' and 'cos.creds' are the default names used by the COS toolkit to locate the credential.\n",
    "\n",
    "When complete select 'Save App Config'\n",
    "\n",
    "![Application Configuration Save](images/cos8.jpg)\n"
   ]
  },
  {
   "cell_type": "markdown",
   "metadata": {},
   "source": [
    "# Next Step\n",
    "In this page:\n",
    "- Created a bucket within Cloud Object Storage to store data. The bucket name 'vitals' will written to the HealthcareCOS \n",
    "application. \n",
    "- Create credentials to be used by Streams to write to the Object Storage\n",
    "- Setup out Streams instance Object Storage credentials.\n",
    "- Enabled SQL Query in order to view the data Stored streams. \n",
    "\n",
    "The next step is to run the Create a [HealthcareCOS.ipynb](HealthcareCOS.ipynb) notebook that will write data to \n",
    "the bucket 'vitals' in the Clould Object Store.. \n"
   ]
  }
 ],
 "metadata": {
  "anaconda-cloud": {},
  "kernelspec": {
   "display_name": "Python [conda root]",
   "language": "python",
   "name": "conda-root-py"
  },
  "language_info": {
   "codemirror_mode": {
    "name": "ipython",
    "version": 3
   },
   "file_extension": ".py",
   "mimetype": "text/x-python",
   "name": "python",
   "nbconvert_exporter": "python",
   "pygments_lexer": "ipython3",
   "version": "3.5.2"
  },
  "nbpresent": {
   "slides": {},
   "themes": {
    "default": "577e4657-0ca5-402b-869f-f2a36c2257ab",
    "theme": {
     "577e4657-0ca5-402b-869f-f2a36c2257ab": {
      "backgrounds": {
       "dc7afa04-bf90-40b1-82a5-726e3cff5267": {
        "background-color": "31af15d2-7e15-44c5-ab5e-e04b16a89eff",
        "id": "dc7afa04-bf90-40b1-82a5-726e3cff5267"
       }
      },
      "id": "577e4657-0ca5-402b-869f-f2a36c2257ab",
      "palette": {
       "19cc588f-0593-49c9-9f4b-e4d7cc113b1c": {
        "id": "19cc588f-0593-49c9-9f4b-e4d7cc113b1c",
        "rgb": [
         252,
         252,
         252
        ]
       },
       "31af15d2-7e15-44c5-ab5e-e04b16a89eff": {
        "id": "31af15d2-7e15-44c5-ab5e-e04b16a89eff",
        "rgb": [
         68,
         68,
         68
        ]
       },
       "50f92c45-a630-455b-aec3-788680ec7410": {
        "id": "50f92c45-a630-455b-aec3-788680ec7410",
        "rgb": [
         197,
         226,
         245
        ]
       },
       "c5cc3653-2ee1-402a-aba2-7caae1da4f6c": {
        "id": "c5cc3653-2ee1-402a-aba2-7caae1da4f6c",
        "rgb": [
         43,
         126,
         184
        ]
       },
       "efa7f048-9acb-414c-8b04-a26811511a21": {
        "id": "efa7f048-9acb-414c-8b04-a26811511a21",
        "rgb": [
         25.118061674008803,
         73.60176211453744,
         107.4819383259912
        ]
       }
      },
      "rules": {
       "a": {
        "color": "19cc588f-0593-49c9-9f4b-e4d7cc113b1c"
       },
       "blockquote": {
        "color": "50f92c45-a630-455b-aec3-788680ec7410",
        "font-size": 3
       },
       "code": {
        "font-family": "Anonymous Pro"
       },
       "h1": {
        "color": "19cc588f-0593-49c9-9f4b-e4d7cc113b1c",
        "font-family": "Merriweather",
        "font-size": 8
       },
       "h2": {
        "color": "19cc588f-0593-49c9-9f4b-e4d7cc113b1c",
        "font-family": "Merriweather",
        "font-size": 6
       },
       "h3": {
        "color": "50f92c45-a630-455b-aec3-788680ec7410",
        "font-family": "Lato",
        "font-size": 5.5
       },
       "h4": {
        "color": "c5cc3653-2ee1-402a-aba2-7caae1da4f6c",
        "font-family": "Lato",
        "font-size": 5
       },
       "h5": {
        "font-family": "Lato"
       },
       "h6": {
        "font-family": "Lato"
       },
       "h7": {
        "font-family": "Lato"
       },
       "li": {
        "color": "50f92c45-a630-455b-aec3-788680ec7410",
        "font-size": 3.25
       },
       "pre": {
        "font-family": "Anonymous Pro",
        "font-size": 4
       }
      },
      "text-base": {
       "color": "19cc588f-0593-49c9-9f4b-e4d7cc113b1c",
       "font-family": "Lato",
       "font-size": 4
      }
     }
    }
   }
  }
 },
 "nbformat": 4,
 "nbformat_minor": 0
}
