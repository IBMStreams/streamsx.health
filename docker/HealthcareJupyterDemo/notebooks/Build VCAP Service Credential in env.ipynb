{
 "cells": [
  {
   "cell_type": "code",
   "execution_count": 1,
   "metadata": {
    "collapsed": false
   },
   "outputs": [],
   "source": [
    "import json\n",
    "import os\n",
    "from IPython.display import display\n",
    "from ipywidgets import widgets\n",
    "from IPython.display import display\n",
    "\n",
    "def update_env(serviceName, credentialDict ):\n",
    "    \"\"\"\n",
    "    Update the environment variables and docker environment \n",
    "    variables file (env_file).\n",
    "    \"\"\"\n",
    "    vs = {\n",
    "        'streaming-analytics': [\n",
    "            {\n",
    "                'name': serviceName,\n",
    "                'credentials': credentialDict\n",
    "            }\n",
    "        ]\n",
    "    }\n",
    "    with open ('env_file', 'w') as outfile:\n",
    "        outfile.write(\"VCAP_SERVICES=\")\n",
    "        vsJsonStr = json.dumps(vs)\n",
    "        outfile.write(vsJsonStr)\n",
    "        outfile.write(\"\\n\")\n",
    "        os.environ[\"VCAP_SERVICES\"] = vsJsonStr\n",
    "\n",
    "        outfile.write(\"STREAMING_ANALYTICS_SERVICE_NAME=\")\n",
    "        outfile.write(serviceName)\n",
    "        outfile.write(\"\\n\")\n",
    "        os.environ[\"STREAMING_ANALYTICS_SERVICE_NAME\"] = serviceName\n",
    "    print(\"UPDATING environment : \")\n",
    "    print(\" -- STREAMING_ANALYTICS_SERVICE_NAME : %s\" % serviceName)\n",
    "    print(\" -- VCAP_SERVICES : json to follow\")    \n",
    "    print(json.dumps(vs,indent=2))\n",
    "    print(\"\\n\\n Environment Configured * EXIT this Page\")\n",
    "    return vs\n",
    "\n",
    "# Check to see if it's necessary todo the processing of this file.\n",
    "#  Are the VCAP_SERVICES and STREAMING_ANALYTICS_SERVICE_NAME set\n",
    "def validateVCAP():\n",
    "    svcs = os.getenv('VCAP_SERVICES', False)\n",
    "    anaSvc = os.getenv('STREAMING_ANALYTICS_SERVICE_NAME', False)\n",
    "    if not svcs:\n",
    "        print(\"Failed to find VCAP_SERVICES\")\n",
    "        return False\n",
    "    else:\n",
    "        vcap = json.loads(svcs)\n",
    "    if not anaSvc:\n",
    "        print(\"Failed to find 'STREAMING_ANALYTICS_SERVICE_NAME'\")\n",
    "        return False\n",
    "\n",
    "    if 'streaming-analytics' not in vcap:\n",
    "        print(\"Failed to find 'streaming-analytics' in VCAP\")\n",
    "        return False\n",
    "\n",
    "    found = False\n",
    "    creds = vcap['streaming-analytics']\n",
    "    for cred in creds:\n",
    "        if ( anaSvc == cred['name']):\n",
    "            print(\" STREAMING_ANALYTICS_SERVICE_NAME & VCAP_SERVICES found and configured\")\n",
    "            print(\" STREAMING_ANALYTICS_SERVICE_NAME : %s\" % anaSvc )\n",
    "            return True\n",
    "    print(\"Failed to locate STREAMING_ANALYTICS_SERVICE_NAME '\",anaSvc,\"'in VCAP_SERVICES\")\n",
    "    print(json.dumps(vcap, indent=2))\n",
    "    \n",
    "ServiceName = None\n",
    "def service_submit(sender):\n",
    "    \"\"\"Get/checkk service name..\"\"\"\n",
    "    global ServiceName\n",
    "    svcName = text.value.strip()\n",
    "    if len(svcName):\n",
    "        ServiceName = svcName\n",
    "        print(\"ServiceName:\", ServiceName)\n",
    "    else:\n",
    "        print(\"Invalid ServiceName : length == 0\")\n",
    "        print(\"ServiceName not defined\")\n",
    "        \n",
    "global CredentialDict\n",
    "CredentialDict = None\n",
    "\n",
    "def validate_cred(str):\n",
    "    try:\n",
    "        credDict = json.loads(str)\n",
    "    except:\n",
    "        print(\"Invalid formatted credentional - should be in a json format\")\n",
    "        return(None)\n",
    "    \n",
    "    credSet = set(list(credDict.keys()))\n",
    "    validSet = {'iam_apikey_description', 'iam_apikey_name', 'iam_role_crn', 'apikey', 'iam_serviceid_crn', 'v2_rest_url'}\n",
    "    if len(validSet.difference(credSet)) is 0:\n",
    "        return credDict\n",
    "    else:\n",
    "        print(\"Credential missing keys:\",validSet.difference(credSet))\n",
    "        return None\n",
    "        \n",
    "def vcap_submit(sender):\n",
    "    global CredentialDict\n",
    "    global ServiceName\n",
    "    str = text.value\n",
    "    CredentialDict = validate_cred(str)\n",
    "    if CredentialDict is not None:\n",
    "        if ServiceName is not None:\n",
    "            vsDict = update_env(ServiceName, CredentialDict)\n",
    "\n",
    "\n"
   ]
  },
  {
   "cell_type": "code",
   "execution_count": 2,
   "metadata": {
    "collapsed": false
   },
   "outputs": [
    {
     "name": "stdout",
     "output_type": "stream",
     "text": [
      " STREAMING_ANALYTICS_SERVICE_NAME & VCAP_SERVICES found and configured\n",
      " STREAMING_ANALYTICS_SERVICE_NAME : streaming3Turbine\n",
      "\n",
      "\n",
      "No need to procede - EXIT this page\n"
     ]
    }
   ],
   "source": [
    "if validateVCAP():\n",
    "    print(\"\\n\\nNo need to procede - EXIT this page\")\n",
    "else:\n",
    "    print(\"\\n\\nProcede to the next cells to configure environment ....\")\n",
    "    "
   ]
  },
  {
   "cell_type": "markdown",
   "metadata": {},
   "source": [
    "---"
   ]
  },
  {
   "cell_type": "markdown",
   "metadata": {},
   "source": [
    "Create `vcap_services.json` to capture Bluemix VCAP service credential\n",
    "\n",
    "Usage:\n",
    "* In [Bluemix](http://bluemix.net), create `Streaming Analytics` service\n",
    "* When you create the service, make sure you capture the service name, copy the value in box region below. \n",
    "* In Bluemix create `[Streaming Analytics]`(https://console.bluemix.net/catalog/services/streaming-analytics) capture the service name, in the sample below it's 'Streaming Analytics-2q'. \n",
    "* Enter the service name in the box below...\n"
   ]
  },
  {
   "cell_type": "code",
   "execution_count": 3,
   "metadata": {
    "collapsed": false
   },
   "outputs": [
    {
     "name": "stdout",
     "output_type": "stream",
     "text": [
      "ServiceName: Streaming3Turbine\n"
     ]
    }
   ],
   "source": [
    "        text = widgets.Text()\n",
    "text.value =\"Enter service name\"\n",
    "display(text)\n",
    "text.on_submit(service_submit)"
   ]
  },
  {
   "cell_type": "markdown",
   "metadata": {},
   "source": [
    "* You'll be brought back to the 'Dashboard' in the 'Services' section you'll find the newly created 'Streaming Analytics', in our sample it's 'Streaming 'Analytics-2q' - select it. \n",
    "* On the 'Service Detais' dashboard - select 'Service credentials' tab\n",
    "* Select 'New credential'\n",
    "* Select 'Add' - you'll be brought back to the credentials page with a newly created Service Credential.\n",
    "* Select 'View credential' to expose the credential.\n",
    "* Select the 'Copy' icon to copy the credential into the paste buffer.\n",
    "* Paste the credential into the region below.\n",
    "* [----------] "
   ]
  },
  {
   "cell_type": "code",
   "execution_count": 4,
   "metadata": {
    "collapsed": false
   },
   "outputs": [
    {
     "name": "stdout",
     "output_type": "stream",
     "text": [
      "UPDATING environment : \n",
      " -- STREAMING_ANALYTICS_SERVICE_NAME : Streaming3Turbine\n",
      " -- VCAP_SERVICES : json to follow\n",
      "{\n",
      "  \"streaming-analytics\": [\n",
      "    {\n",
      "      \"name\": \"Streaming3Turbine\",\n",
      "      \"credentials\": {\n",
      "        \"iam_apikey_name\": \"auto-generated-apikey-306dc5b7-2e62-46d5-9605-b8c7a5e9630e\",\n",
      "        \"iam_role_crn\": \"crn:v1:bluemix:public:iam::::serviceRole:Writer\",\n",
      "        \"iam_serviceid_crn\": \"crn:v1:bluemix:public:iam-identity::a/309e3606a35c9fea12981876cd991b07::serviceid:ServiceId-04375969-b7ec-486a-abb7-17e44055c2e1\",\n",
      "        \"iam_apikey_description\": \"Auto generated apikey during resource-key operation for Instance - crn:v1:bluemix:public:streaming-analytics:us-south:a/309e3606a35c9fea12981876cd991b07:b11e1ab0-9570-44d0-950c-7b84b5abb817::\",\n",
      "        \"v2_rest_url\": \"https://streams-app-service.ng.bluemix.net/v2/streaming_analytics/b11e1ab0-9570-44d0-950c-7b84b5abb817\",\n",
      "        \"apikey\": \"u81I_4Il7SEj4sAygkCa5e3dA7aGat7SSLV3T2msjPR4\"\n",
      "      }\n",
      "    }\n",
      "  ]\n",
      "}\n",
      "\n",
      "\n",
      " Environment Configured * EXIT this Page\n"
     ]
    }
   ],
   "source": [
    "text = widgets.Text()\n",
    "text.value = \"paste json credential here\"\n",
    "display(text)\n",
    "text.on_submit(vcap_submit)"
   ]
  },
  {
   "cell_type": "markdown",
   "metadata": {},
   "source": [
    "* On the 'Service Details' dashboard select 'Manage' tab.\n",
    "* Select 'Launch' to bring up the Streams Console \n",
    "* Open the `Streaming Analytics` service\n",
    "* Click `Service Credentials` tab\n",
    "* Click `New Credential` button (if one is not already available)\n",
    "* Copy the `Key Name` and `Credentials` into the cells below\n",
    "* Run all cells to create `vcap_services.json`"
   ]
  },
  {
   "cell_type": "code",
   "execution_count": null,
   "metadata": {
    "collapsed": true
   },
   "outputs": [],
   "source": []
  }
 ],
 "metadata": {
  "anaconda-cloud": {},
  "kernelspec": {
   "display_name": "Python [default]",
   "language": "python",
   "name": "python3"
  },
  "language_info": {
   "codemirror_mode": {
    "name": "ipython",
    "version": 3
   },
   "file_extension": ".py",
   "mimetype": "text/x-python",
   "name": "python",
   "nbconvert_exporter": "python",
   "pygments_lexer": "ipython3",
   "version": "3.5.2"
  },
  "widgets": {
   "state": {
    "127073be2b7542d48b66511606ca0328": {
     "views": [
      {
       "cell_index": 4.0
      }
     ]
    },
    "14334e6641fe42369c646a273b3e4ebd": {
     "views": [
      {
       "cell_index": 6.0
      }
     ]
    }
   },
   "version": "1.2.0"
  }
 },
 "nbformat": 4,
 "nbformat_minor": 1
}
