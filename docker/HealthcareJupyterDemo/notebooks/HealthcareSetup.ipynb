{
 "cells": [
  {
   "cell_type": "markdown",
   "metadata": {},
   "source": [
    "###  <font color=lightgreen>SHIFT-ENTER</font> in the following cell to test environment\n",
    "\n",
    "This checks the current environment used to submit Streams applications to the cloud..."
   ]
  },
  {
   "cell_type": "code",
   "execution_count": null,
   "metadata": {
    "collapsed": false
   },
   "outputs": [],
   "source": [
    "from IPython.display import display\n",
    "from ipywidgets import widgets\n",
    "import configcloud.streamscred as srvc\n",
    "import configcloud.config as config\n",
    "from IPython.core.display import HTML, display\n",
    "if srvc.validateVCAP():\n",
    "    display(HTML('No need to execute this notebook, continue onto <a href=\"HealthcareDemo.ipynb\">HealthcareDemo</a>.'))\n",
    "else:\n",
    "    display(HTML('<b>Proceed to the next cells to configure environment....</b>'))"
   ]
  },
  {
   "cell_type": "markdown",
   "metadata": {},
   "source": [
    "## Walk through\n",
    "\n",
    "In the case that your enironment is not setup, this will walk you through creating a Streams Instance on Bluemix, generating and capturing credentional in order that you can submit and view data of a Streams application running on the cloud.\n",
    "\n",
    "This will walk you through..\n",
    "- create and Streams instance on Bluemix\n",
    "- capture the name \n",
    "- generate credentials\n",
    "- capture the credentials\n",
    "\n",
    "### Create Instance : \n",
    "\n",
    "Use the following link to Create 'Streaming Analytics' service : (https://console.bluemix.net/catalog/services/streaming-analytics). \n",
    "\n",
    "Before selecting the 'Create', capture the name of the 'Service name', in the example below it's 'Streaming Analytics-2q'. \n",
    "\n",
    "![title](images/cred01.png)"
   ]
  },
  {
   "cell_type": "markdown",
   "metadata": {},
   "source": [
    "\n",
    "#  <font color=lightgreen>SHIFT-ENTER</font> in the following cell to prompt\n",
    "\n",
    "This will prompt for the 'Service Name' captured above, upon entry the 'Service Name' will be echoed."
   ]
  },
  {
   "cell_type": "code",
   "execution_count": null,
   "metadata": {
    "collapsed": false
   },
   "outputs": [],
   "source": [
    "config.uiText = widgets.Text()\n",
    "display(config.uiText)\n",
    "config.uiText.on_submit(srvc.service_submit)"
   ]
  },
  {
   "cell_type": "markdown",
   "metadata": {},
   "source": [
    "### Create Credentials"
   ]
  },
  {
   "cell_type": "markdown",
   "metadata": {},
   "source": [
    "You'll be brought back to the 'Dashboard' in the 'Services' section you'll find the newly created 'Streaming Analytics', in our sample it's 'Streaming 'Analytics-2q' - select it. \n",
    "\n",
    "![title](images/cred02.png)\n",
    "\n",
    "\n",
    "You'll then be presented with the newly created Streams instance management dashboard. Select the, 'Service Credentials' tab...\n",
    "\n",
    "\n",
    "![title](images/cred03.png)\n",
    "\n",
    "\n",
    "On the 'Service credentials' page, select 'New credential'...\n",
    "\n",
    "![title](images/cred04.png)\n",
    "\n",
    "\n",
    "On the 'Add new credential' page select 'Add'\n",
    "\n",
    "![title](images/cred05.png)\n",
    "\n",
    "On completion of the 'Add' you'll be brought back to the 'Service credentials' page with newly added Service credential, select 'View credentials'.\n",
    "\n",
    "![title](images/cred06.png)\n",
    "\n",
    "The page will expand to show the credential, use the copy icon to copy the credential into your paste buffer. \n",
    "\n",
    "![title](images/cred07.jpg)\n",
    "\n",
    "\n",
    "\n"
   ]
  },
  {
   "cell_type": "markdown",
   "metadata": {},
   "source": [
    "#  <font color=lightgreen>SHIFT-ENTER</font> in the following cell to prompt\n",
    "\n",
    "This will prompt for the 'Service credential' captured above, paste the copied credenital. The credential is greater than the prompt area, this is not a problem. \n",
    "\n",
    "The credential will be validated, if no problems are found the credentials are written, 'UPDATING environment' followed by the configuration will be displayed."
   ]
  },
  {
   "cell_type": "code",
   "execution_count": null,
   "metadata": {
    "collapsed": false
   },
   "outputs": [],
   "source": [
    "import json\n",
    "config.uiText = widgets.Text()\n",
    "#text.value = \"json formatted credential\"\n",
    "display(config.uiText)\n",
    "config.uiText.on_submit(srvc.vcap_submit)\n",
    "vcap_services = json.dumps(config.credentialDict)"
   ]
  },
  {
   "cell_type": "markdown",
   "metadata": {},
   "source": [
    "## Successfull configuation, proceed to [HealthcareDemo](HealthcareDemo.ipynb) in order to run the demo.  \n",
    " "
   ]
  },
  {
   "cell_type": "markdown",
   "metadata": {},
   "source": [
    "---"
   ]
  },
  {
   "cell_type": "markdown",
   "metadata": {
    "collapsed": true
   },
   "source": [
    "## <font color=lightblue>Optional</font> : Launch Console.\n",
    "\n",
    "You may want to launch the Streams console in order to monitor the Streams application when it runs. \n",
    "\n",
    "On the Streams Dashboard, select 'Manage' tab. \n",
    "\n",
    "![title](images/cred08.png)\n",
    "\n",
    "From the 'Manage' page select \"LAUNCH\" to bring up the console. \n",
    "\n",
    "![title](images/cred09.png)\n",
    "\n",
    "The console will look like this, with no applications running.\n",
    "\n",
    "![title](images/nothingRunning.jpg)\n",
    "\n",
    "You may want to leave up this page in order to monitor applications as they are submitted.\n"
   ]
  },
  {
   "cell_type": "markdown",
   "metadata": {},
   "source": [
    "### Streams Console. \n",
    "\n",
    "At this point \n",
    "* Streams instance is running\n",
    "* You have configured your environment to define and submit the appliation from Juypter running in Docker. \n",
    "* It is not necessry to run this Notebook again, since the credentials have been written to a file. \n",
    "* Go to [HealthcareDemo](HealthcareDemo-Docker.ipynb) to run the demo.\n",
    "\n",
    "\n"
   ]
  },
  {
   "cell_type": "markdown",
   "metadata": {},
   "source": [
    "## <font color=lightblue>Optional</font> : Details Debugging. "
   ]
  },
  {
   "cell_type": "markdown",
   "metadata": {},
   "source": [
    "The notebook sets up the execution environment in order to submit Streams application to the Cloud service. Once the configuration is set, it is not necessary to run notebook this notebook again.  \n",
    "\n",
    "The notebook writes 2 environment variables to env_file, \n",
    " - STREAMING_ANALYTICS_SERVICE_NAME a string, \n",
    " - VCAP_SERVICES a JSON object. \n",
    " \n",
    "The env_file is used to set the environment varibles at image start up. \n",
    "\n",
    "The cell below will displays the contents of the env_file."
   ]
  },
  {
   "cell_type": "code",
   "execution_count": null,
   "metadata": {
    "collapsed": false
   },
   "outputs": [],
   "source": [
    "# Display the current contents of the env_file, this should be the same as the environment below.\n",
    "try:\n",
    "    with open (\"env_file\", \"r\") as myfile:\n",
    "        data=myfile.readlines()\n",
    "        print(data)\n",
    "except: \n",
    "    print(\"env_file missing????\")\n"
   ]
  },
  {
   "cell_type": "markdown",
   "metadata": {},
   "source": [
    "In addition to writting the values to a file, the values are loaded into the environment, where we can verifyt them. "
   ]
  },
  {
   "cell_type": "code",
   "execution_count": null,
   "metadata": {
    "collapsed": false
   },
   "outputs": [],
   "source": [
    "%env STREAMING_ANALYTICS_SERVICE_NAME"
   ]
  },
  {
   "cell_type": "code",
   "execution_count": null,
   "metadata": {
    "collapsed": false
   },
   "outputs": [],
   "source": [
    "import os\n",
    "vcapStr = os.getenv(config.vcapName)\n",
    "vcap = json.loads(vcapStr)\n",
    "srvc = os.getenv(config.srvcName)\n",
    "if (srvc is None):\n",
    "    print(\"ERR - Missing variable : %s \" % config.srvcName)\n",
    "if (vcap is None):\n",
    "    print(\"ERR - Missing variable : %s \" % config.vcapName)\n",
    "    \n",
    "if (\"streaming-analytics\" in vcap):\n",
    "    print(\"verified : found 'streaming-analytics'\")\n",
    "    for idx in range(len(vcap['streaming-analytics'])):\n",
    "        if (vcap['streaming-analytics'][idx]['name'] == srvc):\n",
    "            print(\"verified : located service '%s' \" % srvc)\n",
    "            break;\n",
    "    else:\n",
    "        print(\"ERR: failed to locate service'%s'.\" % srvc)\n",
    "    "
   ]
  },
  {
   "cell_type": "code",
   "execution_count": null,
   "metadata": {
    "collapsed": false
   },
   "outputs": [],
   "source": [
    "# dump all the environment variables - just in case\n",
    "%env"
   ]
  },
  {
   "cell_type": "code",
   "execution_count": null,
   "metadata": {
    "collapsed": true
   },
   "outputs": [],
   "source": []
  }
 ],
 "metadata": {
  "anaconda-cloud": {},
  "kernelspec": {
   "display_name": "Python [default]",
   "language": "python",
   "name": "python3"
  },
  "language_info": {
   "codemirror_mode": {
    "name": "ipython",
    "version": 3
   },
   "file_extension": ".py",
   "mimetype": "text/x-python",
   "name": "python",
   "nbconvert_exporter": "python",
   "pygments_lexer": "ipython3",
   "version": "3.5.2"
  },
  "widgets": {
   "state": {
    "e3b28411a6774777b19bacc5f70e051f": {
     "views": [
      {
       "cell_index": 8
      }
     ]
    },
    "f2f11be74b784516bc1e0de3a93260f6": {
     "views": [
      {
       "cell_index": 4
      }
     ]
    }
   },
   "version": "1.2.0"
  }
 },
 "nbformat": 4,
 "nbformat_minor": 1
}
