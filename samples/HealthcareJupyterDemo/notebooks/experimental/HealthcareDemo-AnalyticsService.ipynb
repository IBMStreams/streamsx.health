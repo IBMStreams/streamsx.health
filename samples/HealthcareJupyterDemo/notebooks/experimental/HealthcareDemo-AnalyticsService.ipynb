{
 "cells": [
  {
   "cell_type": "markdown",
   "metadata": {
    "nbpresent": {
     "id": "a95422e3-06da-4ad2-8e5d-8638a6ecaad5"
    }
   },
   "source": [
    "# Healthcare Python Streaming Application Demo\n",
    "This application demonstrates how users can develop Python Streaming Applications on DSX. The DSX Notebook ultimately submits two Streams applications to a local Streams cluster. The first application is a pre-compiled SPL application that simulates patient waveform and vital data, as well as publishes the data to a topic. The second application is a Python Topology application written using the Streams Python API. This application subscribes to the topic containing the patient data, performs analysis on the waveforms and sends all of the data, including the results of the analysis, to the Streams view server.\n",
    "\n",
    "Submitting the Python application from the Notebook allows for connecting to the Streams view server in order to retrieve the data. Once the data has been retrieved, it can be analyzed, manipulated or visualized like any other data accessed from a notebook. In the case of this demo, waveform graphs and numerical widgets are being used to display the healthcare data of the patient. \n",
    "\n",
    "The following diagram outlines the architecture of the demo.  \n",
    "\n",
    "![Demo Architecture](https://github.com/IBMStreams/streamsx.health/blob/develop/samples/HealthcareJupyterDemo/images/architecture_diagram.jpg?raw=true)"
   ]
  },
  {
   "cell_type": "markdown",
   "metadata": {},
   "source": [
    "### Cell Description\n",
    "\n",
    "This cell is responsible for installing python modules required for running this notebook"
   ]
  },
  {
   "cell_type": "code",
   "execution_count": null,
   "metadata": {
    "collapsed": false,
    "nbpresent": {
     "id": "721305e1-fa39-4010-9eb4-bf155218370c"
    },
    "scrolled": true
   },
   "outputs": [],
   "source": [
    "!pip install --user --upgrade streamsx\n",
    "!pip install --user --upgrade \"git+https://github.com/IBMStreams/streamsx.health.git#egg=healthdemo&subdirectory=samples/HealthcareJupyterDemo/package\""
   ]
  },
  {
   "cell_type": "markdown",
   "metadata": {},
   "source": [
    "### Cell Description\n",
    "\n",
    "This cell is responsible for building and submitting the Streams applications to the Streams cluster. \n",
    "\n",
    "###### PhysionetIngestServiceMulti microservice\n",
    "\n",
    "This microservice comes in the form of a pre-compiled SAB file. The microservice retrieves patient waveform and vital data from a Physionet database (https://www.physionet.org/). 3 different sets of data are used as source.  The patient data is submitted to the *ingest-physionet* topic, which allows it to be consumed from downtstream applications or services."
   ]
  },
  {
   "cell_type": "code",
   "execution_count": null,
   "metadata": {
    "collapsed": false
   },
   "outputs": [],
   "source": [
    "from streamsx.topology.topology import Topology, schema\n",
    "from streamsx.topology.context import ConfigParams, submit\n",
    "from streamsx.topology import functions\n",
    "\n",
    "print ('Submitting to streaming analytic service.')\n",
    "\n",
    "# 'vcap_services.json' is created by running the \"Create VCAP Service Credential\" notebook\n",
    "# Change the service name accordingly\n",
    "config = {\n",
    "    ConfigParams.VCAP_SERVICES: 'vcap_services.json',\n",
    "    ConfigParams.SERVICE_NAME: 'Streaming-Analytics'\n",
    "}\n",
    "\n",
    "numPatients = 3\n",
    "print (\"Don't forget to submit patient ingest microservice manually. (Set num.patients >= 3)\")"
   ]
  },
  {
   "cell_type": "markdown",
   "metadata": {
    "nbpresent": {
     "id": "57cc4392-d899-4354-8bbf-45a6322f5efd"
    }
   },
   "source": [
    "### Cell Description\n",
    "\n",
    "This cell is responsible for building and submitting the Streams applications to the Streams cluster. \n",
    "\n",
    "##### Healthcare Patient Alert Python Topology Application\n",
    "\n",
    "This cell contains source code for the Python Topology application. This is a Streaming Python application that ingests the patient data from the *ingest-physionet* topic, performs filtering on patients that require attention, and then sends the data to the Streams view server."
   ]
  },
  {
   "cell_type": "code",
   "execution_count": null,
   "metadata": {
    "collapsed": false
   },
   "outputs": [],
   "source": [
    "from healthdemo.utils import get_patient_id, get_sampled_data_values\n",
    "\n",
    "topo = Topology('HealthcareDemo_PatientAlert')\n",
    "\n",
    "def patientNeedsAttention(tup):\n",
    "    pulse = get_sampled_data_values(tup, 'PULSE')[0]\n",
    "    return pulse > 0 and pulse < 80\n",
    "\n",
    "## Create a view that shows patient that requires attention\n",
    "patients_requiring_attention = topo.subscribe('ingest-physionet', schema.CommonSchema.Json) \\\n",
    "    .map(functions.identity) \\\n",
    "    .filter(patientNeedsAttention)\n",
    "\n",
    "view = patients_requiring_attention.view()\n",
    "\n",
    "submit('ANALYTICS_SERVICE', topo, config)\n",
    "print (\"DONE\")"
   ]
  },
  {
   "cell_type": "markdown",
   "metadata": {},
   "source": [
    "### Cell Description\n",
    "\n",
    "This cell creates the background job that access the view data.\n",
    "\n",
    "The view data is continuously retrieved from the Streams view server in a background job. Each graph object represent a patient and receives data when the patient requires attention."
   ]
  },
  {
   "cell_type": "code",
   "execution_count": null,
   "metadata": {
    "collapsed": true
   },
   "outputs": [],
   "source": [
    "from healthdemo.medgraphs import NumericText\n",
    "import re\n",
    "\n",
    "## load BokehJS visualization library (must be loaded in a separate cell)\n",
    "from bokeh.io import output_notebook, push_notebook\n",
    "from bokeh.resources import INLINE\n",
    "output_notebook(resources=INLINE)\n",
    "%autosave 0\n",
    "%reload_ext autoreload\n",
    "%aimport healthdemo.utils\n",
    "%aimport healthdemo.medgraphs\n",
    "%autoreload 1\n",
    "\n",
    "## create the graphs ##\n",
    "graphs = []\n",
    "\n",
    "alert_div = '''\n",
    "<div style=\"background-color: #152935; border: 3px solid black; height: 120px; width: 700px; font-family: arial; clear: both; color: {0}\">\n",
    "  <div style=\"margin-left: 5px; margin-top: 20px; font-size: 30px; float:left\">{1} requires Attention!</div>\n",
    "  <div style=\"margin-right: 5px; margin-top: 20px; font-size: 30px; float:right\">pulse: {2} {3}</div>\n",
    "</div>\n",
    "'''\n",
    "\n",
    "for id in range(numPatients):\n",
    "    pulse_numeric = NumericText(signal_label='PULSE', title='Patient-%d' % (id+1), color='#e71d32', override_str=alert_div)\n",
    "    graphs.append(pulse_numeric)\n",
    "\n",
    "## retrieve data from Streams view in a background job ##\n",
    "def data_collector(view, graphs):\n",
    "    for d in iter(view.get, None):\n",
    "        patientId = int(re.findall('\\d+', get_patient_id(d))[0])\n",
    "        if patientId < numPatients:\n",
    "            graphs[patientId-1].add(d)\n",
    "\n",
    "from IPython.lib import backgroundjobs as bg\n",
    "jobs = bg.BackgroundJobManager()\n",
    "jobs.new(data_collector, view.start_data_fetch(), graphs)"
   ]
  },
  {
   "cell_type": "markdown",
   "metadata": {},
   "source": [
    "### Cell Description\n",
    "\n",
    "This cell is responsible for laying out and displaying the graphs. There is an infinite loop that continuously calls the ```update()``` method on each of the graphs. After each graph has been updated, a call to ```push_notebook()``` is made, which causes the notebook to update the graphics."
   ]
  },
  {
   "cell_type": "code",
   "execution_count": null,
   "metadata": {
    "collapsed": true
   },
   "outputs": [],
   "source": [
    "import time\n",
    "from bokeh.io import show\n",
    "from bokeh.layouts import column, widgetbox\n",
    "\n",
    "plots = []\n",
    "\n",
    "for g in graphs:\n",
    "    plots.append(widgetbox(g.get_figure()))\n",
    "    \n",
    "## display graphs\n",
    "print (\"Monitoring patients' pulses...\")\n",
    "show(column(plots),\n",
    "     # If using bokeh > 0.12.2, uncomment the following statement\n",
    "     #notebook_handle=True\n",
    ")\n",
    "\n",
    "cnt = 0\n",
    "while True:\n",
    "    ## update graphs\n",
    "    for g in graphs:\n",
    "        g.update()\n",
    "\n",
    "    ## update notebook\n",
    "    cnt += 1\n",
    "    if cnt % 125 == 0:\n",
    "        push_notebook() ## refresh the graphs\n",
    "        cnt = 0\n",
    "    time.sleep(0.008)"
   ]
  },
  {
   "cell_type": "markdown",
   "metadata": {},
   "source": [
    "### Cell Description\n",
    "\n",
    "This cell is responsible for building and submitting the Streams applications to the Streams cluster. \n",
    "\n",
    "##### Healthcare Patient Python Topology Application\n",
    "\n",
    "This cell contains source code for the Python Topology application. As described in the above architecture, this is a Streaming Python application that ingests the patient data from the *ingest-physionet* topic, performs filtering and analysis on the data, and then sends the data to the Streams view server."
   ]
  },
  {
   "cell_type": "code",
   "execution_count": null,
   "metadata": {
    "collapsed": false,
    "nbpresent": {
     "id": "8db70313-aa8e-40b2-a79d-6f5dfc4948a8"
    },
    "scrolled": false
   },
   "outputs": [],
   "source": [
    "from healthdemo.patientmonitoring_functions import streaming_rpeak\n",
    "from healthdemo.healthcare_functions import PatientFilter, GenTimestamp, aggregate\n",
    "from healthdemo.windows import SlidingWindow\n",
    "\n",
    "def getPatientView(patient_id):\n",
    "    '''\n",
    "    Select data of given patient_id, perform analysis and return view.\n",
    "    \n",
    "    Parameters\n",
    "    ----------\n",
    "    patient_id: int\n",
    "      patient_id (1-based)\n",
    "      \n",
    "    Returns\n",
    "    -------\n",
    "    view: topology.View\n",
    "      view data from Streams server\n",
    "    '''\n",
    "    topo = Topology('HealthcareDemo_Patient%d' % (patient_id))\n",
    "\n",
    "    ## Ingest, preprocess and aggregate patient data\n",
    "    sample_rate = 125\n",
    "    patient_data = topo.subscribe('ingest-physionet', schema.CommonSchema.Json) \\\n",
    "                       .map(functions.identity) \\\n",
    "                       .filter(PatientFilter('patient-%d' % (patient_id))) \\\n",
    "                       .transform(GenTimestamp(sample_rate)) \\\n",
    "                       .transform(SlidingWindow(length=sample_rate, trigger=sample_rate-1)) \\\n",
    "                       .transform(aggregate)\n",
    "                        \n",
    "    ## Calculate RPeak and RR delta\n",
    "    patient_data = streaming_rpeak(patient_data, sample_rate, data_label='ECG Lead II')\n",
    "\n",
    "    ## Create a view of the data\n",
    "    patient_view = patient_data.view()\n",
    "    \n",
    "    submit('ANALYTICS_SERVICE', topo, config)\n",
    "    return patient_view\n",
    "    \n",
    "# Retrieve view for a patient    \n",
    "patient_view = getPatientView(2)\n",
    "    \n",
    "print('DONE')"
   ]
  },
  {
   "cell_type": "markdown",
   "metadata": {
    "nbpresent": {
     "id": "0007fc95-21c0-45c1-9a47-dd29b87f3818"
    }
   },
   "source": [
    "### Cell Description\n",
    "\n",
    "This cell initializes all of the graphs that will be used as well as creates the background job that access the view data.\n",
    "\n",
    "The view data is continuously retrieved from the Streams view server in a background job. Each graph object receives a copy of the data. The graph objects extracts and stores the data that is relevant for that particular graph. Each time a call to ```update()``` is made on a graph object, the next data point is retrieved and displayed. Each graph object maintains an internal queue so that each time a call to ```update()``` is made, the next element in the queue is retrieved and removed. "
   ]
  },
  {
   "cell_type": "code",
   "execution_count": null,
   "metadata": {
    "collapsed": false,
    "nbpresent": {
     "id": "b72a8e1e-e623-4d76-8251-76680be593ee"
    }
   },
   "outputs": [],
   "source": [
    "from healthdemo.medgraphs import ECGGraph, PoincareGraph, NumericText, ABPNumericText\n",
    "\n",
    "## load BokehJS visualization library (must be loaded in a separate cell)\n",
    "from bokeh.io import output_notebook, push_notebook\n",
    "from bokeh.resources import INLINE\n",
    "output_notebook(resources=INLINE)\n",
    "%autosave 0\n",
    "%reload_ext autoreload\n",
    "%aimport healthdemo.utils\n",
    "%aimport healthdemo.medgraphs\n",
    "%autoreload 1\n",
    "\n",
    "## create the graphs ##\n",
    "graphs = []\n",
    "\n",
    "ecg_leadII_graph = ECGGraph(signal_label='ECG Lead II', title='ECG Lead II', plot_width=600, min_range=-0.5, max_range=2.0)\n",
    "graphs.append(ecg_leadII_graph)\n",
    "\n",
    "leadII_poincare = PoincareGraph(signal_label='Poincare - ECG Lead II', title='Poincare - ECG Lead II')\n",
    "graphs.append(leadII_poincare)\n",
    "\n",
    "ecg_leadV_graph = ECGGraph(signal_label='ECG Lead V', title='ECG Lead V', plot_width=600)\n",
    "graphs.append(ecg_leadV_graph)\n",
    "\n",
    "resp_graph = ECGGraph(signal_label='Resp', title='Resp', min_range=-1, max_range=3, plot_width=600)\n",
    "graphs.append(resp_graph)\n",
    "\n",
    "pleth_graph = ECGGraph(signal_label='Pleth', title='Pleth', min_range=0, max_range=5, plot_width=600)\n",
    "graphs.append(pleth_graph)\n",
    "\n",
    "hr_numeric = NumericText(signal_label='HR', title='HR', color='#7cc7ff')\n",
    "graphs.append(hr_numeric)\n",
    "\n",
    "pulse_numeric = NumericText(signal_label='PULSE', title='PULSE', color='#e71d32')\n",
    "graphs.append(pulse_numeric)\n",
    "\n",
    "spo2_numeric = NumericText(signal_label='SpO2', title='SpO2', color='#8cd211')\n",
    "graphs.append(spo2_numeric)\n",
    "\n",
    "abp_numeric = ABPNumericText(abp_sys_label='ABP Systolic', abp_dia_label='ABP Diastolic', title='ABP', color='#fdd600')\n",
    "graphs.append(abp_numeric)\n",
    "\n",
    "## retrieve data from Streams view in a background job ##\n",
    "def data_collector(view, graphs):\n",
    "    for d in iter(view.get, None):\n",
    "        for g in graphs:\n",
    "            g.add(d)\n",
    "            \n",
    "from IPython.lib import backgroundjobs as bg\n",
    "jobs = bg.BackgroundJobManager()\n",
    "jobs.new(data_collector, patient_view.start_data_fetch(), graphs)"
   ]
  },
  {
   "cell_type": "markdown",
   "metadata": {
    "nbpresent": {
     "id": "a6e444c6-cd12-436d-94a4-410e8fce7fd3"
    }
   },
   "source": [
    "### Cell Description\n",
    "\n",
    "This cell is responsible for laying out and displaying the graphs. There is an infinite loop that continuously calls the ```update()``` method on each of the graphs. After each graph has been updated, a call to ```push_notebook()``` is made, which causes the notebook to update the graphics. "
   ]
  },
  {
   "cell_type": "code",
   "execution_count": null,
   "metadata": {
    "collapsed": false,
    "nbpresent": {
     "id": "a39590c1-697b-49cc-aecb-37c5afe939ed"
    },
    "scrolled": true
   },
   "outputs": [],
   "source": [
    "import time\n",
    "from bokeh.io import show\n",
    "from bokeh.layouts import column, row, widgetbox\n",
    "\n",
    "## display graphs\n",
    "show(\n",
    "    row(\n",
    "        column(\n",
    "            ecg_leadII_graph.get_figure(), \n",
    "            ecg_leadV_graph.get_figure(), \n",
    "            resp_graph.get_figure(),\n",
    "            pleth_graph.get_figure()\n",
    "        ), \n",
    "        column(\n",
    "            leadII_poincare.get_figure(),\n",
    "            widgetbox(hr_numeric.get_figure()),\n",
    "            widgetbox(pulse_numeric.get_figure()),\n",
    "            widgetbox(spo2_numeric.get_figure()),\n",
    "            widgetbox(abp_numeric.get_figure())\n",
    "        )\n",
    "    ),\n",
    "    \n",
    "    # If using bokeh > 0.12.2, uncomment the following statement\n",
    "    #notebook_handle=True\n",
    ")\n",
    "\n",
    "cnt = 0\n",
    "while True:\n",
    "    ## update graphs\n",
    "    for g in graphs:\n",
    "        g.update()\n",
    "\n",
    "    ## update notebook \n",
    "    cnt += 1\n",
    "    if cnt % 5 == 0:\n",
    "        push_notebook() ## refresh the graphs\n",
    "        cnt = 0\n",
    "    time.sleep(0.008)"
   ]
  },
  {
   "cell_type": "code",
   "execution_count": null,
   "metadata": {
    "collapsed": true
   },
   "outputs": [],
   "source": []
  }
 ],
 "metadata": {
  "anaconda-cloud": {},
  "kernelspec": {
   "display_name": "Python [default]",
   "language": "python",
   "name": "python3"
  },
  "language_info": {
   "codemirror_mode": {
    "name": "ipython",
    "version": 3
   },
   "file_extension": ".py",
   "mimetype": "text/x-python",
   "name": "python",
   "nbconvert_exporter": "python",
   "pygments_lexer": "ipython3",
   "version": "3.5.2"
  },
  "nbpresent": {
   "slides": {},
   "themes": {
    "default": "577e4657-0ca5-402b-869f-f2a36c2257ab",
    "theme": {
     "577e4657-0ca5-402b-869f-f2a36c2257ab": {
      "backgrounds": {
       "dc7afa04-bf90-40b1-82a5-726e3cff5267": {
        "background-color": "31af15d2-7e15-44c5-ab5e-e04b16a89eff",
        "id": "dc7afa04-bf90-40b1-82a5-726e3cff5267"
       }
      },
      "id": "577e4657-0ca5-402b-869f-f2a36c2257ab",
      "palette": {
       "19cc588f-0593-49c9-9f4b-e4d7cc113b1c": {
        "id": "19cc588f-0593-49c9-9f4b-e4d7cc113b1c",
        "rgb": [
         252,
         252,
         252
        ]
       },
       "31af15d2-7e15-44c5-ab5e-e04b16a89eff": {
        "id": "31af15d2-7e15-44c5-ab5e-e04b16a89eff",
        "rgb": [
         68,
         68,
         68
        ]
       },
       "50f92c45-a630-455b-aec3-788680ec7410": {
        "id": "50f92c45-a630-455b-aec3-788680ec7410",
        "rgb": [
         197,
         226,
         245
        ]
       },
       "c5cc3653-2ee1-402a-aba2-7caae1da4f6c": {
        "id": "c5cc3653-2ee1-402a-aba2-7caae1da4f6c",
        "rgb": [
         43,
         126,
         184
        ]
       },
       "efa7f048-9acb-414c-8b04-a26811511a21": {
        "id": "efa7f048-9acb-414c-8b04-a26811511a21",
        "rgb": [
         25.118061674008803,
         73.60176211453744,
         107.4819383259912
        ]
       }
      },
      "rules": {
       "a": {
        "color": "19cc588f-0593-49c9-9f4b-e4d7cc113b1c"
       },
       "blockquote": {
        "color": "50f92c45-a630-455b-aec3-788680ec7410",
        "font-size": 3
       },
       "code": {
        "font-family": "Anonymous Pro"
       },
       "h1": {
        "color": "19cc588f-0593-49c9-9f4b-e4d7cc113b1c",
        "font-family": "Merriweather",
        "font-size": 8
       },
       "h2": {
        "color": "19cc588f-0593-49c9-9f4b-e4d7cc113b1c",
        "font-family": "Merriweather",
        "font-size": 6
       },
       "h3": {
        "color": "50f92c45-a630-455b-aec3-788680ec7410",
        "font-family": "Lato",
        "font-size": 5.5
       },
       "h4": {
        "color": "c5cc3653-2ee1-402a-aba2-7caae1da4f6c",
        "font-family": "Lato",
        "font-size": 5
       },
       "h5": {
        "font-family": "Lato"
       },
       "h6": {
        "font-family": "Lato"
       },
       "h7": {
        "font-family": "Lato"
       },
       "li": {
        "color": "50f92c45-a630-455b-aec3-788680ec7410",
        "font-size": 3.25
       },
       "pre": {
        "font-family": "Anonymous Pro",
        "font-size": 4
       }
      },
      "text-base": {
       "color": "19cc588f-0593-49c9-9f4b-e4d7cc113b1c",
       "font-family": "Lato",
       "font-size": 4
      }
     }
    }
   }
  }
 },
 "nbformat": 4,
 "nbformat_minor": 0
}
