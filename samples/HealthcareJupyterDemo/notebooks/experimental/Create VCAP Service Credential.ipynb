{
 "cells": [
  {
   "cell_type": "markdown",
   "metadata": {},
   "source": [
    "Create `vcap_services.json` to capture Bluemix VCAP service credential\n",
    "\n",
    "Usage:\n",
    "* In [Bluemix](http://bluemix.net), create `Streaming Analytics` service\n",
    "* Open the `Streaming Analytics` service\n",
    "* Click `Service Credentials` tab\n",
    "* Click `New Credential` button (if one is not already available)\n",
    "* Copy the `Key Name` and `Credentials` into the cells below\n",
    "* Run all cells to create `vcap_services.json`"
   ]
  },
  {
   "cell_type": "code",
   "execution_count": null,
   "metadata": {
    "collapsed": true
   },
   "outputs": [],
   "source": [
    "key_name='Streaming-Analytics'\n",
    "credentials={}"
   ]
  },
  {
   "cell_type": "code",
   "execution_count": null,
   "metadata": {
    "collapsed": true
   },
   "outputs": [],
   "source": [
    "import json\n",
    "\n",
    "vs = {\n",
    "    'streaming-analytics': [\n",
    "        {\n",
    "            'name': key_name,\n",
    "            'credentials': credentials\n",
    "        }\n",
    "    ]\n",
    "}\n",
    "with open ('vcap_services.json', 'w') as outfile:\n",
    "    json.dump(vs, outfile)"
   ]
  },
  {
   "cell_type": "code",
   "execution_count": null,
   "metadata": {
    "collapsed": true
   },
   "outputs": [],
   "source": []
  }
 ],
 "metadata": {
  "anaconda-cloud": {},
  "kernelspec": {
   "display_name": "Python [default]",
   "language": "python",
   "name": "python3"
  },
  "language_info": {
   "codemirror_mode": {
    "name": "ipython",
    "version": 3
   },
   "file_extension": ".py",
   "mimetype": "text/x-python",
   "name": "python",
   "nbconvert_exporter": "python",
   "pygments_lexer": "ipython3",
   "version": "3.5.2"
  }
 },
 "nbformat": 4,
 "nbformat_minor": 1
}
